{
 "cells": [
  {
   "cell_type": "markdown",
   "id": "d2c1f502-0335-47d6-ab66-db8f8e55cb52",
   "metadata": {},
   "source": [
    "# OOP Assignment "
   ]
  },
  {
   "cell_type": "markdown",
   "id": "1459c200-b01f-49fd-8339-a77d8e14cd93",
   "metadata": {},
   "source": [
    "### 1. \n",
    "Write a Python program to create a class called \"Person\" with properties for \n",
    "name, age and country. Include a method to display the person's details. Create \n",
    "two instances of the 'Person' class and display their details. "
   ]
  },
  {
   "cell_type": "code",
   "execution_count": 3,
   "id": "88de6ba9-2d8b-4389-bb47-34929914e548",
   "metadata": {},
   "outputs": [],
   "source": [
    "class Person():\n",
    "    def __init__(self,name,age,country):\n",
    "        self.name=name\n",
    "        self.age=age\n",
    "        self.country=country\n",
    "    def person_language(self):\n",
    "        return \"he speaks Balochi \"\n",
    "    def person_prof(self):\n",
    "        return \"He is professor\""
   ]
  },
  {
   "cell_type": "code",
   "execution_count": 5,
   "id": "79f93522-3429-4206-91fc-311e6330ce21",
   "metadata": {},
   "outputs": [],
   "source": [
    "p1=Person(\"Wadod \", 29, \"Iran\")"
   ]
  },
  {
   "cell_type": "code",
   "execution_count": 7,
   "id": "a4013cf3-a92d-4023-85cd-1a036c82a983",
   "metadata": {},
   "outputs": [
    {
     "data": {
      "text/plain": [
       "'he speaks Balochi '"
      ]
     },
     "execution_count": 7,
     "metadata": {},
     "output_type": "execute_result"
    }
   ],
   "source": [
    "p1.person_language()"
   ]
  },
  {
   "cell_type": "code",
   "execution_count": 9,
   "id": "30a86057-228d-46a4-a103-18c0c1132a59",
   "metadata": {},
   "outputs": [
    {
     "data": {
      "text/plain": [
       "'Wadod '"
      ]
     },
     "execution_count": 9,
     "metadata": {},
     "output_type": "execute_result"
    }
   ],
   "source": [
    "p1.name"
   ]
  },
  {
   "cell_type": "markdown",
   "id": "eb98202b-0633-4188-abc7-2dab3851e015",
   "metadata": {},
   "source": [
    "### 2.\n",
    "Write a Python program to create a class called 'Rectangle' with properties for \n",
    "width and height. Include two methods to calculate rectangle area and perimeter. \n",
    "Create an instance of the 'Rectangle' class and calculate its area and perimeter."
   ]
  },
  {
   "cell_type": "code",
   "execution_count": 42,
   "id": "c516302a-76fb-4950-8f10-04118b668739",
   "metadata": {},
   "outputs": [],
   "source": [
    "class Rectangle():\n",
    "    def __init__(obj,width,height):\n",
    "        obj.width =width\n",
    "        obj.height= height\n",
    "    def rectangle_area(obj):\n",
    "      return obj.width * obj.height\n",
    "    \n",
    "    def rectangle_perimeter(obj):\n",
    "       return 2 * (obj.width + obj.height)\n",
    "       "
   ]
  },
  {
   "cell_type": "code",
   "execution_count": 50,
   "id": "444258ce-9cf7-4bf2-99a8-97e13c27a937",
   "metadata": {},
   "outputs": [],
   "source": [
    "rectangle=Rectangle(122,10)"
   ]
  },
  {
   "cell_type": "code",
   "execution_count": 20,
   "id": "453d4560-bf8b-468b-814e-584e87c515ff",
   "metadata": {},
   "outputs": [
    {
     "data": {
      "text/plain": [
       "12"
      ]
     },
     "execution_count": 20,
     "metadata": {},
     "output_type": "execute_result"
    }
   ],
   "source": [
    "rectangle.width"
   ]
  },
  {
   "cell_type": "code",
   "execution_count": 22,
   "id": "b39b99fa-31cb-4f64-a574-93b16274950c",
   "metadata": {},
   "outputs": [
    {
     "data": {
      "text/plain": [
       "10"
      ]
     },
     "execution_count": 22,
     "metadata": {},
     "output_type": "execute_result"
    }
   ],
   "source": [
    "rectangle.height"
   ]
  },
  {
   "cell_type": "code",
   "execution_count": 52,
   "id": "9c9c4fcd-8799-4bbe-a704-992b92336d9c",
   "metadata": {},
   "outputs": [
    {
     "data": {
      "text/plain": [
       "264"
      ]
     },
     "execution_count": 52,
     "metadata": {},
     "output_type": "execute_result"
    }
   ],
   "source": [
    "rectangle.rectangle_perimeter()"
   ]
  },
  {
   "cell_type": "code",
   "execution_count": 54,
   "id": "a2e6379c-1613-439a-825f-301ff9aa7971",
   "metadata": {},
   "outputs": [
    {
     "data": {
      "text/plain": [
       "1220"
      ]
     },
     "execution_count": 54,
     "metadata": {},
     "output_type": "execute_result"
    }
   ],
   "source": [
    "rectangle.rectangle_area()"
   ]
  },
  {
   "cell_type": "code",
   "execution_count": 38,
   "id": "b0f647f7-a686-4dda-b872-5283ce4ac389",
   "metadata": {},
   "outputs": [
    {
     "data": {
      "text/plain": [
       "44"
      ]
     },
     "execution_count": 38,
     "metadata": {},
     "output_type": "execute_result"
    }
   ],
   "source": [
    "rectangle1.calculate_perimeter()"
   ]
  },
  {
   "cell_type": "markdown",
   "id": "2be10a4c-300b-41e8-a57b-984547363ba9",
   "metadata": {},
   "source": [
    "### 3.\n",
    "Write a Python program that creates a class called 'Vehicle' with properties for \n",
    "make, model, and year. Include a method to display vehicle details. Create a \n",
    "subclass called 'Car' that inherits from the 'Vehicle' class and includes an \n",
    "additional property for the number of doors. Override the display method to \n",
    "include the number of doors. \n"
   ]
  },
  {
   "cell_type": "code",
   "execution_count": 79,
   "id": "ab85badf-5715-4f78-8462-5947b1343336",
   "metadata": {},
   "outputs": [],
   "source": [
    "class Vehicle():\n",
    "    def __init__(self,make,model,year):\n",
    "        self.make =make\n",
    "        self.model=model\n",
    "        self.year=year\n",
    "    def display(self):\n",
    "        print (f\"\"\"\n",
    "           Make: {self.make}\n",
    "           Model:{self.model}\n",
    "           Year:{self.year}\n",
    "           \"\"\")\n",
    "\n",
    "class Car(Vehicle):\n",
    "    def __init__(self,make,model,year,doors):\n",
    "        super().__init__(make,model,year)\n",
    "        self.doors=doors\n",
    "\n",
    "    def  display_details(self):\n",
    "        super.display_details(self)\n",
    "        print(f\"doors {self.doors}\")"
   ]
  },
  {
   "cell_type": "code",
   "execution_count": 99,
   "id": "73dfec9b-fdba-4911-8887-1c78324c3d35",
   "metadata": {},
   "outputs": [],
   "source": [
    "c1=Car(\"GERMAN\",\"HONDA MODEL\",2025,8)"
   ]
  },
  {
   "cell_type": "code",
   "execution_count": 93,
   "id": "67ea4f13-4197-4087-9f91-71a1b26b2e68",
   "metadata": {},
   "outputs": [],
   "source": [
    "V1=Vehicle(\"GERMAN\",\"HONDA MODEL\",2025)"
   ]
  },
  {
   "cell_type": "code",
   "execution_count": 101,
   "id": "e9f54f87-d45d-40d3-bbf2-629889e89ac6",
   "metadata": {},
   "outputs": [
    {
     "name": "stdout",
     "output_type": "stream",
     "text": [
      "Make: GERMAN\n",
      "Model: HONDA MODEL\n",
      "Year: 2025\n",
      "Doors: 8\n"
     ]
    }
   ],
   "source": [
    "c1.display_details()"
   ]
  },
  {
   "cell_type": "markdown",
   "id": "4f1d470c-bd73-4e7e-bd31-2d0d3ec79503",
   "metadata": {},
   "source": [
    "### 4.\n",
    "Write a Python program that creates a class called \"BankAccount\" with \n",
    "properties for account number and balance. Include methods to deposit and \n",
    "withdraw money from the account. Create some instances of the \"BankAccount\" \n",
    "class, deposit some money, and withdraw a portion of it. \n"
   ]
  },
  {
   "cell_type": "code",
   "execution_count": 212,
   "id": "7f3d227a-6896-4798-aec1-8dca829a568c",
   "metadata": {},
   "outputs": [],
   "source": [
    "\n",
    "class BankAccount():\n",
    "    def __init__(self,account_number,account_balance=0):\n",
    "        self.account_number=account_number\n",
    "        self.account_balance=account_balance\n",
    "\n",
    "    def deposit_money(self):\n",
    "        amount=float(input(\"Enter the deposited amount :\"))\n",
    "        if amount <=0:\n",
    "            return \"Enter a valid account\"\n",
    "        else:\n",
    "            self.account_balance += amount\n",
    "            print(f\"Balance Successfully deposited in your Account : {self.account_balance:.2f}pkr\")\n",
    "\n",
    "    def Cash_withdraw(self):\n",
    "       amount= float(input(\"Enter the amount for Withdeaw: \"))\n",
    "       if amount >self.account_balance:\n",
    "           return \"insufficient Balance!\"\n",
    "       elif amount <=0: \n",
    "           return \"Enter a valid amount\"\n",
    "       else:    \n",
    "           self.account_balance -= amount\n",
    "           print (f\"Your Transaction is being proceed! collect your cash: {amount:.2f}pkr\")\n",
    "           print(f\"The reaming Balance is : {self.account_balance:.2f}pkr\")\n",
    "        "
   ]
  },
  {
   "cell_type": "code",
   "execution_count": 214,
   "id": "01cabdf0-8b3a-486b-bf1f-482976fccb7e",
   "metadata": {},
   "outputs": [],
   "source": [
    "User=BankAccount(333368)"
   ]
  },
  {
   "cell_type": "code",
   "execution_count": 216,
   "id": "f9d7b897-6985-4169-b13f-a23020928a2e",
   "metadata": {},
   "outputs": [
    {
     "data": {
      "text/plain": [
       "0"
      ]
     },
     "execution_count": 216,
     "metadata": {},
     "output_type": "execute_result"
    }
   ],
   "source": [
    "User.account_balance"
   ]
  },
  {
   "cell_type": "code",
   "execution_count": 218,
   "id": "a0dfb984-7c7f-4403-840f-aea5ef5aa03c",
   "metadata": {},
   "outputs": [
    {
     "name": "stdin",
     "output_type": "stream",
     "text": [
      "Enter the deposited amount : 999\n"
     ]
    },
    {
     "name": "stdout",
     "output_type": "stream",
     "text": [
      "Balance Successfully deposited in your Account : 999.00pkr\n"
     ]
    }
   ],
   "source": [
    "User.deposit_money()"
   ]
  },
  {
   "cell_type": "code",
   "execution_count": 220,
   "id": "aab17f08-cd5d-466b-9e82-fdce9f69d39f",
   "metadata": {},
   "outputs": [
    {
     "name": "stdin",
     "output_type": "stream",
     "text": [
      "Enter the amount for Withdeaw:  8\n"
     ]
    },
    {
     "name": "stdout",
     "output_type": "stream",
     "text": [
      "Your Transaction is being proceed! collect your cash: 8.00pkr\n",
      "The reaming Balance is : 991.00pkr\n"
     ]
    }
   ],
   "source": [
    "User.Cash_withdraw()"
   ]
  },
  {
   "cell_type": "markdown",
   "id": "ca792b64-d8ef-430c-a776-82a029ff1392",
   "metadata": {},
   "source": [
    "### 5.\n",
    "Write a Python program that creates a class called 'Shape' with a method to \n",
    "calculate the area. Create two subclasses, 'Circle' and 'Triangle', that inherit from \n",
    "the 'Shape' class and override the area calculation method. Create an instance of \n",
    "the 'Circle' class and calculate its area. Similarly, do the same for the 'Triangle' \n",
    "class. "
   ]
  },
  {
   "cell_type": "code",
   "execution_count": 305,
   "id": "dbc941e0-4155-495d-93e3-713d5700ceb8",
   "metadata": {},
   "outputs": [],
   "source": [
    "import math\n",
    "\n",
    "class Shape:\n",
    "    def area(self):\n",
    "        raise NotImplementedError(\"This method should be overridden by subclasses.\")\n",
    "\n",
    "class Circle(Shape):\n",
    "    def __init__(self, radius):\n",
    "        self.radius = radius\n",
    "\n",
    "    def area(self):\n",
    "        return math.pi * (self.radius ** 2)\n",
    "\n",
    "class Triangle(Shape):\n",
    "    def __init__(self, base, height):\n",
    "        self.base = base\n",
    "        self.height = height\n",
    "\n",
    "    def area(self):\n",
    "        return 0.5 * self.base * self.height"
   ]
  },
  {
   "cell_type": "code",
   "execution_count": 307,
   "id": "78e28899-6ddb-4a2b-921e-46d4662c6d98",
   "metadata": {},
   "outputs": [],
   "source": [
    "circle=Circle(12)"
   ]
  },
  {
   "cell_type": "code",
   "execution_count": 309,
   "id": "cc06f225-1d37-4cad-b8d8-ddde0bb9af93",
   "metadata": {},
   "outputs": [],
   "source": [
    "tri=Triangle(10,18)"
   ]
  },
  {
   "cell_type": "code",
   "execution_count": 311,
   "id": "6a348b30-31f6-490c-9af5-56b8fa671ad8",
   "metadata": {},
   "outputs": [
    {
     "data": {
      "text/plain": [
       "452.3893421169302"
      ]
     },
     "execution_count": 311,
     "metadata": {},
     "output_type": "execute_result"
    }
   ],
   "source": [
    "circle.area()"
   ]
  },
  {
   "cell_type": "code",
   "execution_count": 315,
   "id": "8d9a2571-d46a-4bbd-b8e7-da1460327fe1",
   "metadata": {},
   "outputs": [
    {
     "data": {
      "text/plain": [
       "90.0"
      ]
     },
     "execution_count": 315,
     "metadata": {},
     "output_type": "execute_result"
    }
   ],
   "source": [
    "tri.area()"
   ]
  },
  {
   "cell_type": "markdown",
   "id": "e9574ddf-98b0-4812-833d-a04f649ba664",
   "metadata": {},
   "source": [
    "### 6.\n",
    "Write a Python program that creates a class called 'Employee' with properties \n",
    "for name and salary. Include a method to calculate annual salary. Create a \n",
    "subclass called 'Manager' that inherits from the 'Employee' class and adds an \n",
    "additional property for department. Override the annual salary calculation method \n",
    "to include bonuses for managers. Create two instances of the 'Manager' class \n",
    "and calculate their annual salary."
   ]
  },
  {
   "cell_type": "code",
   "execution_count": 439,
   "id": "270ac6f0-aaff-40ab-a746-2cbb77c7ebc3",
   "metadata": {},
   "outputs": [],
   "source": [
    "class Employee:\n",
    "    def __init__(self, name, salary):\n",
    "        self.name = name\n",
    "        self.salary = salary\n",
    "\n",
    "    def display(self):\n",
    "        return f\"Employee: {self.name}\\nWages: {self.salary}\"\n",
    "\n",
    "    def annual_salary(self):\n",
    "        return self.salary * 12\n",
    "\n",
    "\n",
    "class Manager(Employee):\n",
    "    def __init__(self, name, salary, department):\n",
    "        super().__init__(name, salary) \n",
    "        self.department = department\n",
    "\n",
    "    def display(self):\n",
    "        return f\"Manager: {self.name}\\nWages: {self.salary}\\nDepartment: {self.department}\"\n",
    "\n",
    "    def annual_salary(self):\n",
    "        bonus = 1200  \n",
    "        return self.salary * 12 + bonus \n"
   ]
  },
  {
   "cell_type": "code",
   "execution_count": 441,
   "id": "840f7d71-b283-4b09-ae46-123fcc2b638e",
   "metadata": {},
   "outputs": [],
   "source": [
    "worker1=Manager(\"Abdull\",10000,\"IT\")\n",
    "worker2 = Manager(\"jamal\", 6000, \"archeology\")\n"
   ]
  },
  {
   "cell_type": "code",
   "execution_count": 498,
   "id": "b669150a-f6ee-4161-90fb-6023ab83073c",
   "metadata": {},
   "outputs": [
    {
     "data": {
      "text/plain": [
       "'Employee: Abdull\\nWages: 10000'"
      ]
     },
     "execution_count": 498,
     "metadata": {},
     "output_type": "execute_result"
    }
   ],
   "source": [
    "super(Manager,worker1).display()"
   ]
  },
  {
   "cell_type": "code",
   "execution_count": 463,
   "id": "72950c91-9152-485c-bd38-800af04906d8",
   "metadata": {},
   "outputs": [
    {
     "name": "stdout",
     "output_type": "stream",
     "text": [
      "Annual Salary: 73200\n"
     ]
    }
   ],
   "source": [
    "print(f\"Annual Salary: {worker2.annual_salary()}\")"
   ]
  },
  {
   "cell_type": "code",
   "execution_count": 465,
   "id": "cf155149-49f9-4380-8c7a-9e15a9814b68",
   "metadata": {},
   "outputs": [
    {
     "name": "stdout",
     "output_type": "stream",
     "text": [
      "Annual Salary: 121200\n",
      "\n"
     ]
    }
   ],
   "source": [
    "print(f\"Annual Salary: {worker1.annual_salary()}\\n\")"
   ]
  },
  {
   "cell_type": "markdown",
   "id": "73e829b4-ffca-42db-9ad3-075e6632f794",
   "metadata": {},
   "source": [
    "### 7.\n",
    "Write a Python program that creates a class `Book` with properties for title, \n",
    "author, and publication year. Include a method to display book details. Create a \n",
    "subclass called 'Ebook' that inherits from the 'Book' class and includes an \n",
    "additional property for book price. Override the display method to include the \n",
    "book price. Create an instance of the 'Ebook' class and display its details. \n"
   ]
  },
  {
   "cell_type": "code",
   "execution_count": 477,
   "id": "e6d4c370-7925-4e72-8137-7653b8a5a2ba",
   "metadata": {},
   "outputs": [],
   "source": [
    "class Book():\n",
    "    def __init__(self,title,author,publication_year):\n",
    "        self.title = title\n",
    "        self.author = author\n",
    "        self.publication_year = publication_year\n",
    "\n",
    "    def book_details(self):\n",
    "        print(f\"\"\"\n",
    "          Title: {self.title}\n",
    "          Author: {self.author}\n",
    "          Publication Year : {self.publication_year}\n",
    "          \"\"\")\n",
    "\n",
    "class Ebook(Book):\n",
    "    \n",
    "    def __init__(self,title,author,publication_year,price):\n",
    "        super().__init__(title,author,publication_year)\n",
    "        self.price=price\n",
    "\n",
    "    def book_details(self):\n",
    "       print(f\"\"\"\n",
    "          Title: {self.title}\n",
    "          Author: {self.author}\n",
    "          Publication Year : {self.publication_year}\n",
    "          Price: {self.price}\n",
    "          \"\"\")\n",
    "        "
   ]
  },
  {
   "cell_type": "code",
   "execution_count": 479,
   "id": "e089f5d1-27df-4c9b-b04d-1002b0d6f4dd",
   "metadata": {},
   "outputs": [],
   "source": [
    "ebook=Ebook(\"Chida\",\"Mureed\",2028,1500)"
   ]
  },
  {
   "cell_type": "code",
   "execution_count": 481,
   "id": "70a0e573-0fbd-4cf3-a5fe-e70a6e19667b",
   "metadata": {},
   "outputs": [
    {
     "name": "stdout",
     "output_type": "stream",
     "text": [
      "\n",
      "          Title: Chida\n",
      "          Author: Mureed\n",
      "          Publication Year : 2028\n",
      "          Price: 1500\n",
      "          \n"
     ]
    }
   ],
   "source": [
    "ebook.book_details()"
   ]
  },
  {
   "cell_type": "code",
   "execution_count": 496,
   "id": "90fef058-9c7e-45aa-b542-813b6f040b4f",
   "metadata": {},
   "outputs": [
    {
     "name": "stdout",
     "output_type": "stream",
     "text": [
      "\n",
      "          Title: Chida\n",
      "          Author: Mureed\n",
      "          Publication Year : 2028\n",
      "          \n"
     ]
    }
   ],
   "source": [
    "super(Ebook,ebook).book_details()"
   ]
  },
  {
   "cell_type": "markdown",
   "id": "019bb945-20cd-46ec-a154-8c6e2fea56c3",
   "metadata": {},
   "source": [
    "### 8.\n",
    "Write a Python program that creates a class called 'Animal' with properties for \n",
    "species and sound. Include a method to make the animal's sound. Create a \n",
    "subclass called 'Dog' that inherits from the 'Animal' class and adds an additional \n",
    "property for color. Override the make sound method to include the dog's color. \n",
    "Create an instance of the 'Dog' class and make it make its sound."
   ]
  },
  {
   "cell_type": "code",
   "execution_count": 510,
   "id": "0f77ac8a-7002-464e-b666-e0ac23d82256",
   "metadata": {},
   "outputs": [],
   "source": [
    "class Animal():\n",
    "    def __init__(self,species,sound):\n",
    "        self.species=species\n",
    "        self.sound=sound\n",
    "    def make_sound(self):\n",
    "        print(f\" The Sound of {self.species} is meo-meo\")\n",
    "\n",
    "class Dog(Animal):\n",
    "    def __init__(self,species,sound,color):\n",
    "        super().__init__(species,sound)\n",
    "        self.color=color\n",
    "    def make_sound(self):\n",
    "        print(f\" The Sound of {self.species} is: Barking \")\n",
    "     "
   ]
  },
  {
   "cell_type": "code",
   "execution_count": 506,
   "id": "78f5b9f6-5613-418f-a15a-b99f1e29ad5a",
   "metadata": {},
   "outputs": [],
   "source": [
    "dog=Dog('German shafard',\"barking\",\"Black\")"
   ]
  },
  {
   "cell_type": "code",
   "execution_count": 512,
   "id": "8e1b68f7-e217-4aff-b229-dcc658ed98f1",
   "metadata": {},
   "outputs": [
    {
     "name": "stdout",
     "output_type": "stream",
     "text": [
      " The Sound of German shafard is Barking \n"
     ]
    }
   ],
   "source": [
    "dog.make_sound()"
   ]
  },
  {
   "cell_type": "code",
   "execution_count": 514,
   "id": "2f082df9-09f3-4108-b39a-e9cda0084ada",
   "metadata": {},
   "outputs": [
    {
     "data": {
      "text/plain": [
       "'German shafard'"
      ]
     },
     "execution_count": 514,
     "metadata": {},
     "output_type": "execute_result"
    }
   ],
   "source": [
    "dog.species"
   ]
  },
  {
   "cell_type": "markdown",
   "id": "c75de3a4-f052-4995-990b-3cbbdb611f87",
   "metadata": {},
   "source": [
    "### 9.\n",
    "Write a Python program that creates a class called Bank with properties for \n",
    "bank names and branches. Include methods to add a branch, remove a branch, \n",
    "and display all branches. Create an instance of the Bank class and perform \n",
    "operations to add and remove branches. \n"
   ]
  },
  {
   "cell_type": "code",
   "execution_count": 705,
   "id": "2581519b-1b5c-48c8-9781-6833bfb27b9a",
   "metadata": {},
   "outputs": [],
   "source": [
    "class Bank:\n",
    "    def __init__(self, name):\n",
    "        self.name = name\n",
    "        self.branches = []\n",
    "\n",
    "    def add_branches(self, branch_name):\n",
    "        if branch_name not in self.branches:\n",
    "            self.branches.append(branch_name)\n",
    "            print(f\"Branch {branch_name} is successfully added!\")\n",
    "        else:\n",
    "            print(f\"Branch {branch_name} already exists in the branch list.\")\n",
    "\n",
    "    def remove_branch(self, branch_name):\n",
    "        if branch_name in self.branches:\n",
    "            self.branches.remove(branch_name)\n",
    "            print(f\"Branch {branch_name} is removed successfully!\")\n",
    "        else:\n",
    "            print(f\"Branch {branch_name} is not in the branch list!\")\n",
    "\n",
    "    def display_branches(self):\n",
    "        if self.branches:\n",
    "            print(f\"Branches of {self.name}:\")\n",
    "            for branch in self.branches:\n",
    "                print(f\"- {branch}\")\n",
    "        else:\n",
    "            print(f\"No branches available for {self.name}.\")\n"
   ]
  },
  {
   "cell_type": "code",
   "execution_count": 616,
   "id": "a53bf5c5-279a-41c7-89ff-c13ea2a56111",
   "metadata": {},
   "outputs": [],
   "source": [
    "regional_bank=Bank(\"Bolan Bank\")"
   ]
  },
  {
   "cell_type": "code",
   "execution_count": 624,
   "id": "265ab245-0e4f-4a65-b44c-1c13541844af",
   "metadata": {},
   "outputs": [
    {
     "name": "stdout",
     "output_type": "stream",
     "text": [
      "Branch Balach branch is successfully added!\n"
     ]
    }
   ],
   "source": [
    "regional_bank.add_branches(\"Balach branch\")"
   ]
  },
  {
   "cell_type": "code",
   "execution_count": 630,
   "id": "4f7aa4a3-02d3-4797-afd8-af24dd2850ea",
   "metadata": {},
   "outputs": [
    {
     "name": "stdout",
     "output_type": "stream",
     "text": [
      "Branch Aslam Branch is successfully added!\n"
     ]
    }
   ],
   "source": [
    "regional_bank.add_branches(\"Aslam Branch\")"
   ]
  },
  {
   "cell_type": "code",
   "execution_count": 638,
   "id": "53c6ffe4-70df-4f96-b5b8-50f441850155",
   "metadata": {},
   "outputs": [
    {
     "name": "stdout",
     "output_type": "stream",
     "text": [
      "Branch Balach branch is removed successfully!\n"
     ]
    }
   ],
   "source": [
    "regional_bank.remove_branch(\"Balach branch\")"
   ]
  },
  {
   "cell_type": "code",
   "execution_count": 636,
   "id": "b832f128-3a2f-4ace-8627-a29a4e159cd3",
   "metadata": {},
   "outputs": [
    {
     "name": "stdout",
     "output_type": "stream",
     "text": [
      "Branch Dr branch is successfully added!\n"
     ]
    }
   ],
   "source": [
    "regional_bank.add_branches(\"Dr branch\")"
   ]
  },
  {
   "cell_type": "code",
   "execution_count": 640,
   "id": "24aacd95-3d3d-4241-8e3d-67d6357d6b29",
   "metadata": {},
   "outputs": [
    {
     "name": "stdout",
     "output_type": "stream",
     "text": [
      "Branches of Bolan Bank:\n",
      "- Aslam Branch\n",
      "- Dr branch\n"
     ]
    }
   ],
   "source": [
    "regional_bank.display_branches()"
   ]
  },
  {
   "cell_type": "markdown",
   "id": "bea4d8e7-bd5a-4592-9d08-88b375426b73",
   "metadata": {},
   "source": [
    "### 10.\n",
    "Write a Python program that creates a class called Product with properties for \n",
    "product ID, name, and price. Include a method to calculate the total price by \n",
    "multiplying the price by the quantity. Create a subclass called \n",
    "PersonalCareProduct that inherits from the Product class and adds an additional \n",
    "property for the warranty period. Override the total price calculation method to \n",
    "include the warranty period. Create an instance of the PersonalCareProduct \n",
    "class and calculate its total price. "
   ]
  },
  {
   "cell_type": "code",
   "execution_count": 691,
   "id": "ff599222-fac8-4640-be83-3dc9585ae08e",
   "metadata": {},
   "outputs": [],
   "source": [
    "class Product():\n",
    "    def __init__(self,ID,name,price):\n",
    "        self.ID = ID\n",
    "        self. name = name\n",
    "        self.price= price\n",
    "    def price_calculation(self,quantity):\n",
    "      \n",
    "        return quantity * self.price\n",
    "\n",
    "class PersonalCareProduct(Product):\n",
    "    def __init__(self,ID,name,price,warranty_period):\n",
    "        super().__init__(ID,name,price)\n",
    "        self.warranty_period= warranty_period\n",
    "    def price_calculation(self,quantity):\n",
    "        return quantity * self.price\n",
    "        \n",
    "        \n",
    "        \n",
    "        "
   ]
  },
  {
   "cell_type": "code",
   "execution_count": 681,
   "id": "e5c88c60-a38d-4f79-b97d-417040e8ddcb",
   "metadata": {},
   "outputs": [],
   "source": [
    "prod=Product(1233333,\"mobile\",5)"
   ]
  },
  {
   "cell_type": "code",
   "execution_count": 685,
   "id": "bfece7f6-4740-4007-90ba-7e0533e0059f",
   "metadata": {},
   "outputs": [
    {
     "data": {
      "text/plain": [
       "1000"
      ]
     },
     "execution_count": 685,
     "metadata": {},
     "output_type": "execute_result"
    }
   ],
   "source": [
    "prod.price_calculation(200)"
   ]
  },
  {
   "cell_type": "code",
   "execution_count": 693,
   "id": "3102fa5d-c915-4351-917f-ef17ce1b2681",
   "metadata": {},
   "outputs": [
    {
     "data": {
      "text/plain": [
       "75"
      ]
     },
     "execution_count": 693,
     "metadata": {},
     "output_type": "execute_result"
    }
   ],
   "source": [
    "prod.price_calculation(15)"
   ]
  },
  {
   "cell_type": "markdown",
   "id": "a1f2068d-7143-48a8-b8de-096e34552a4c",
   "metadata": {},
   "source": [
    "### 11.\n",
    "Write a Python program that creates a class called BankAccount with \n",
    "properties for account number, account holder name, and balance. Include \n",
    "methods to deposit, withdraw, and transfer money between accounts. Create \n",
    "multiple instances of the BankAccount class and perform operations such as \n",
    "depositing, withdrawing, and transferring money.\n"
   ]
  },
  {
   "cell_type": "code",
   "execution_count": 782,
   "id": "4df28ee2-040d-43ac-ac11-cbca0171f5dd",
   "metadata": {},
   "outputs": [],
   "source": [
    "class BanckAccount():\n",
    "    def __init__(self,account_number,account_holdername):\n",
    "        self.account_number = account_number\n",
    "        self.account_holdername= account_holdername\n",
    "        self.balance=0.0\n",
    "    def deposit(self,amount):\n",
    "        if amount >= 0:\n",
    "            self.balance += amount\n",
    "            print(f\"amount {amount:.2f}pkr successfuly added in your account\")\n",
    "            \n",
    "    def Withdraw(self,amount):\n",
    "        if amount < self.balance:\n",
    "            self.balance -= amount\n",
    "            print(f\"amount {amount:.2f}pkr successfuly withdraw from account \")"
   ]
  },
  {
   "cell_type": "code",
   "execution_count": 784,
   "id": "0c46d3f7-f6b3-4872-9249-1f83d60acb32",
   "metadata": {},
   "outputs": [],
   "source": [
    "user=BanckAccount(12121232,\"Wadod Satakzai\")"
   ]
  },
  {
   "cell_type": "code",
   "execution_count": 795,
   "id": "6f6b89ae-717b-4327-a03f-d89078e0d04d",
   "metadata": {},
   "outputs": [
    {
     "name": "stdout",
     "output_type": "stream",
     "text": [
      "amount 5000.00pkr successfuly added in your account\n"
     ]
    }
   ],
   "source": [
    "user.deposit(5000)"
   ]
  },
  {
   "cell_type": "code",
   "execution_count": 797,
   "id": "41f8d240-efb7-4ff5-9079-3355f2fec9c0",
   "metadata": {},
   "outputs": [
    {
     "data": {
      "text/plain": [
       "34880.0"
      ]
     },
     "execution_count": 797,
     "metadata": {},
     "output_type": "execute_result"
    }
   ],
   "source": [
    "user.balance"
   ]
  },
  {
   "cell_type": "code",
   "execution_count": 799,
   "id": "b940c2bc-90d6-496d-b9c4-97ff49260e47",
   "metadata": {},
   "outputs": [
    {
     "name": "stdout",
     "output_type": "stream",
     "text": [
      "amount 4880.00pkr successfuly withdraw from account \n"
     ]
    }
   ],
   "source": [
    "user.Withdraw(4880)"
   ]
  },
  {
   "cell_type": "code",
   "execution_count": 801,
   "id": "8b9fc3b6-3db1-433b-89cf-cfcd65c7f9b4",
   "metadata": {},
   "outputs": [
    {
     "data": {
      "text/plain": [
       "30000.0"
      ]
     },
     "execution_count": 801,
     "metadata": {},
     "output_type": "execute_result"
    }
   ],
   "source": [
    "user.balance"
   ]
  },
  {
   "cell_type": "markdown",
   "id": "a3152b75-d373-428a-9eb1-1ce767a93e45",
   "metadata": {},
   "source": [
    "### 12.\n",
    "Write a Python program that creates a class called University with properties \n",
    "for university name and departments. Include methods to add a department, \n",
    "remove a department, and display all departments. Create an instance of the \n",
    "University class and add and remove departments."
   ]
  },
  {
   "cell_type": "code",
   "execution_count": 881,
   "id": "f85c3a0e-4b07-4607-9a39-ec9d91942979",
   "metadata": {},
   "outputs": [],
   "source": [
    "class Universty():\n",
    "    def __init__(self,name):\n",
    "        self.name=name\n",
    "        self.departments = []\n",
    "    def add_department(self,department):\n",
    "        if department not in  self.departments:\n",
    "            self.departments.append(department)\n",
    "            return f\"{department} added in the Departments\"\n",
    "        else:\n",
    "            return f\"The {department} already exist\"\n",
    "    def remove_department(self,department):\n",
    "        if department in self.departments:\n",
    "            self.departments.remove(department)\n",
    "            return f\"The {department }  removed from the  list of departments\"\n",
    "        else:\n",
    "            return f\"The {department} does not exist in the list of Universty departments\""
   ]
  },
  {
   "cell_type": "code",
   "execution_count": 877,
   "id": "fecd79da-8ce5-4fb4-a636-9bfb5c81c28d",
   "metadata": {},
   "outputs": [],
   "source": [
    "Bolan_uni=Universty(\"BMC\")"
   ]
  },
  {
   "cell_type": "code",
   "execution_count": 865,
   "id": "c7c8d06b-05e6-41aa-9fa1-7741bab0ca71",
   "metadata": {},
   "outputs": [
    {
     "data": {
      "text/plain": [
       "'vvv added in the Departments'"
      ]
     },
     "execution_count": 865,
     "metadata": {},
     "output_type": "execute_result"
    }
   ],
   "source": [
    "Bolan_uni.add_department(\"vvv\")"
   ]
  },
  {
   "cell_type": "code",
   "execution_count": 893,
   "id": "19828c64-222b-49aa-a130-80655e504e2f",
   "metadata": {},
   "outputs": [
    {
     "data": {
      "text/plain": [
       "'Political Science department added in the Departments'"
      ]
     },
     "execution_count": 893,
     "metadata": {},
     "output_type": "execute_result"
    }
   ],
   "source": [
    "Bolan_uni.add_department(\"Political Science department\")"
   ]
  },
  {
   "cell_type": "code",
   "execution_count": 895,
   "id": "b2cd25b6-9b7f-4141-bafc-7165dd6ccae0",
   "metadata": {},
   "outputs": [
    {
     "data": {
      "text/plain": [
       "['Political Science department']"
      ]
     },
     "execution_count": 895,
     "metadata": {},
     "output_type": "execute_result"
    }
   ],
   "source": [
    "Bolan_uni.departments"
   ]
  },
  {
   "cell_type": "code",
   "execution_count": 883,
   "id": "b298d02e-ff54-46cb-8d19-2558bbe47ca0",
   "metadata": {},
   "outputs": [
    {
     "data": {
      "text/plain": [
       "'The vvv does not exist in the list of Universty departments'"
      ]
     },
     "execution_count": 883,
     "metadata": {},
     "output_type": "execute_result"
    }
   ],
   "source": [
    "Bolan_uni.remove_department(\"vvv\")"
   ]
  },
  {
   "cell_type": "code",
   "execution_count": 885,
   "id": "6262f5f0-32ea-473f-a754-ce6bcec14bcb",
   "metadata": {},
   "outputs": [
    {
     "data": {
      "text/plain": [
       "'balochi L added in the Departments'"
      ]
     },
     "execution_count": 885,
     "metadata": {},
     "output_type": "execute_result"
    }
   ],
   "source": [
    "Bolan_uni.add_department(\"balochi L\")"
   ]
  },
  {
   "cell_type": "code",
   "execution_count": 887,
   "id": "773e8126-702f-4dca-8b8b-87a4189d5bc4",
   "metadata": {},
   "outputs": [
    {
     "data": {
      "text/plain": [
       "'The balochi L dis removed from the  list of departments'"
      ]
     },
     "execution_count": 887,
     "metadata": {},
     "output_type": "execute_result"
    }
   ],
   "source": [
    "Bolan_uni.remove_department(\"balochi L\")"
   ]
  },
  {
   "cell_type": "code",
   "execution_count": 889,
   "id": "3d52429c-471b-4ba2-a29c-707981ad3364",
   "metadata": {},
   "outputs": [
    {
     "data": {
      "text/plain": [
       "[]"
      ]
     },
     "execution_count": 889,
     "metadata": {},
     "output_type": "execute_result"
    }
   ],
   "source": [
    "Bolan_uni.departments"
   ]
  },
  {
   "cell_type": "code",
   "execution_count": null,
   "id": "f0b5e2c3-ef85-4528-bb64-bbc24e80f5c5",
   "metadata": {},
   "outputs": [],
   "source": []
  }
 ],
 "metadata": {
  "kernelspec": {
   "display_name": "Python 3 (ipykernel)",
   "language": "python",
   "name": "python3"
  },
  "language_info": {
   "codemirror_mode": {
    "name": "ipython",
    "version": 3
   },
   "file_extension": ".py",
   "mimetype": "text/x-python",
   "name": "python",
   "nbconvert_exporter": "python",
   "pygments_lexer": "ipython3",
   "version": "3.12.7"
  }
 },
 "nbformat": 4,
 "nbformat_minor": 5
}
